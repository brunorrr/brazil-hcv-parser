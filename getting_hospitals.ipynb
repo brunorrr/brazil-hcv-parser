{
 "cells": [
  {
   "cell_type": "code",
   "execution_count": 1,
   "id": "7e2c6c02-ef36-4033-b807-540b62c56060",
   "metadata": {},
   "outputs": [],
   "source": [
    "lines = []\n",
    "import csv\n",
    "with open('/home/bruno/Projetos/planos-hospitais/massa/produtos_prestadores_hospitalares_MA.csv') as csvfile:\n",
    "    spamreader = csv.reader(csvfile, delimiter=',')\n",
    "    for row in spamreader:\n",
    "        lines.append(row)\n",
    "del lines[0]"
   ]
  },
  {
   "cell_type": "code",
   "execution_count": 2,
   "id": "85c49046-d926-4e66-8226-6b329ba11797",
   "metadata": {},
   "outputs": [],
   "source": [
    "class Estabelecimento:\n",
    "    def __init__(self, cnpj, codigoCnes, nome, categoria, codigoMunicipio):\n",
    "        self.cnpj = cnpj\n",
    "        self.codigoCnes = codigoCnes\n",
    "        self.nome = nome\n",
    "        self.categoria = categoria\n",
    "        self.codigoMunicipio = codigoMunicipio\n",
    "    def __repr__(self):\n",
    "        return \"Estabelecimento(%s, %s, %s, %s, %s)\" % (self.cnpj, self.codigoCnes, self.nome, self.categoria, self.codigoMunicipio)\n",
    "    def __eq__(self, other):\n",
    "        if isinstance(other, Estabelecimento):\n",
    "            return (other.codigoCnes == self.codigoCnes)\n",
    "        else:\n",
    "            return False\n",
    "    def __ne__(self, other):\n",
    "        return (not self.__eq__(other))\n",
    "    def __hash__(self):\n",
    "        return hash(self.__repr__())"
   ]
  },
  {
   "cell_type": "code",
   "execution_count": 3,
   "id": "a3b4dc9b-ef7c-4ac0-82fa-6e24cb40c0d3",
   "metadata": {},
   "outputs": [
    {
     "name": "stdout",
     "output_type": "stream",
     "text": [
      "302107\n"
     ]
    }
   ],
   "source": [
    "hospitals = []\n",
    "for line in lines:\n",
    "    hospitals.append(Estabelecimento(line[15],line[16],line[17],line[18],line[23]))\n",
    "print(len(hospitals))"
   ]
  },
  {
   "cell_type": "code",
   "execution_count": 4,
   "id": "461eb861-214d-466a-b706-641575ccb437",
   "metadata": {},
   "outputs": [
    {
     "name": "stdout",
     "output_type": "stream",
     "text": [
      "977\n"
     ]
    }
   ],
   "source": [
    "hospitals = set(hospitals)\n",
    "print(len(hospitals))"
   ]
  },
  {
   "cell_type": "code",
   "execution_count": 5,
   "id": "deb8c699-d2d1-4786-be98-d6bc1835a3d9",
   "metadata": {},
   "outputs": [],
   "source": [
    "import json\n",
    "import codecs\n",
    "arquivo = codecs.open(\"output/hospitals.json\", \"w\")\n",
    "arquivo.write(json.dumps([hospital.__dict__ for hospital in hospitals], indent=2,ensure_ascii=False))\n",
    "arquivo.close()"
   ]
  }
 ],
 "metadata": {
  "kernelspec": {
   "display_name": "Python 3 (ipykernel)",
   "language": "python",
   "name": "python3"
  },
  "language_info": {
   "codemirror_mode": {
    "name": "ipython",
    "version": 3
   },
   "file_extension": ".py",
   "mimetype": "text/x-python",
   "name": "python",
   "nbconvert_exporter": "python",
   "pygments_lexer": "ipython3",
   "version": "3.8.10"
  }
 },
 "nbformat": 4,
 "nbformat_minor": 5
}
