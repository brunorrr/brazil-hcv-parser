{
 "cells": [
  {
   "cell_type": "code",
   "execution_count": 1,
   "id": "154c8ad5-0c6d-4a4b-9b59-4772cee1e083",
   "metadata": {},
   "outputs": [],
   "source": [
    "linhas = []\n",
    "import csv\n",
    "with open('/home/bruno/Projetos/planos-hospitais/massa/produtos_prestadores_hospitalares_MA.csv') as csvfile:\n",
    "    spamreader = csv.reader(csvfile, delimiter=',')\n",
    "    for row in spamreader:\n",
    "        linhas.append(row)\n",
    "del linhas[0]"
   ]
  },
  {
   "cell_type": "code",
   "execution_count": 2,
   "id": "43eced10-88b4-4e1f-ade7-489c795adf8d",
   "metadata": {},
   "outputs": [],
   "source": [
    "class Cidade:\n",
    "    def __init__(self, codigo, nome):\n",
    "        self.codigo = codigo\n",
    "        self.nome = nome\n",
    "    def __repr__(self):\n",
    "        return \"Cidade(%s, %s)\" % (self.codigo, self.nome)\n",
    "    def __eq__(self, other):\n",
    "        if isinstance(other, Cidade):\n",
    "            return (other.codigo == self.codigo)\n",
    "        else:\n",
    "            return False\n",
    "    def __ne__(self, other):\n",
    "        return (not self.__eq__(other))\n",
    "    def __hash__(self):\n",
    "        return hash(self.__repr__())"
   ]
  },
  {
   "cell_type": "code",
   "execution_count": 3,
   "id": "2407f08c-f63c-4827-a159-323d6e5dfd0e",
   "metadata": {},
   "outputs": [
    {
     "name": "stdout",
     "output_type": "stream",
     "text": [
      "302107\n"
     ]
    }
   ],
   "source": [
    "cidades = []\n",
    "for linha in linhas:\n",
    "    cidades.append(Cidade(linha[23],linha[24]))\n",
    "print(len(cidades))"
   ]
  },
  {
   "cell_type": "code",
   "execution_count": 4,
   "id": "25fa2b00-9fbf-4e86-9bb9-c903d4fa2335",
   "metadata": {},
   "outputs": [
    {
     "name": "stdout",
     "output_type": "stream",
     "text": [
      "49\n"
     ]
    }
   ],
   "source": [
    "cidades = list(set(cidades))\n",
    "print(len(cidades))"
   ]
  },
  {
   "cell_type": "code",
   "execution_count": 5,
   "id": "eb45b66c",
   "metadata": {},
   "outputs": [],
   "source": [
    "import json\n",
    "import codecs\n",
    "arquivo = codecs.open(\"output/cidades.json\", \"w\")\n",
    "arquivo.write(json.dumps([cidade.__dict__ for cidade in cidades], indent=2,ensure_ascii=False))\n",
    "arquivo.close()"
   ]
  }
 ],
 "metadata": {
  "kernelspec": {
   "display_name": "Python 3 (ipykernel)",
   "language": "python",
   "name": "python3"
  },
  "language_info": {
   "codemirror_mode": {
    "name": "ipython",
    "version": 3
   },
   "file_extension": ".py",
   "mimetype": "text/x-python",
   "name": "python",
   "nbconvert_exporter": "python",
   "pygments_lexer": "ipython3",
   "version": "3.8.10"
  }
 },
 "nbformat": 4,
 "nbformat_minor": 5
}
