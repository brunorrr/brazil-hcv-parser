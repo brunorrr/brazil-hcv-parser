{
 "cells": [
  {
   "cell_type": "code",
   "execution_count": null,
   "id": "cfebb72f-1361-4692-8a59-0f4f42b3ec8a",
   "metadata": {
    "tags": []
   },
   "outputs": [],
   "source": [
    "linhas = []\n",
    "import csv\n",
    "with open('/home/bruno/Projetos/planos-hospitais/massa/produtos_prestadores_hospitalares_MA.csv') as csvfile:\n",
    "    spamreader = csv.reader(csvfile, delimiter=',')\n",
    "    for row in spamreader:\n",
    "        linhas.append(row)\n",
    "del linhas[0]"
   ]
  },
  {
   "cell_type": "code",
   "execution_count": null,
   "id": "0f9b58d6-84e8-4ea6-be33-78c87fc66ae9",
   "metadata": {
    "tags": []
   },
   "outputs": [],
   "source": [
    "class Operadora:\n",
    "    def __init__(self,codigoANS,razaoSocial,classeEstatuto,classeTamanho, planos):\n",
    "        self.codigoANS = codigoANS\n",
    "        self.razaoSocial = razaoSocial\n",
    "        self.classeEstatuto = classeEstatuto\n",
    "        self.classeTamanho = classeTamanho\n",
    "        self.planos = planos\n",
    "    def __repr__(self):\n",
    "        return \"Operadora(%s, %s, %s, %s)\" % (self.codigoANS, self.razaoSocial, self.classeEstatuto, self.classeTamanho)\n",
    "    def __eq__(self, other):\n",
    "        if isinstance(other, Operadora):\n",
    "            return (other.codigoANS == self.codigoANS)\n",
    "        else:\n",
    "            return False\n",
    "    def __ne__(self, other):\n",
    "        return (not self.__eq__(other))\n",
    "    def __hash__(self):\n",
    "        return hash(self.__repr__())\n",
    "    \n",
    "\n",
    "class Plano:\n",
    "    codigoOperadora = ''\n",
    "    def __init__(self,codigoOperadora,codigo,codigoANS,agrupamento,tipoContratacao,tipoFinanciamento,segmentacaoAssistencial,tipoAbrangencia,fatorModerador,status):\n",
    "        self.codigoOperadora = codigoOperadora\n",
    "        self.codigo = codigo\n",
    "        self.codigoANS = codigoANS\n",
    "        self.agrupamento = agrupamento\n",
    "        self.tipoContratacao = tipoContratacao\n",
    "        self.tipoFinanciamento = tipoFinanciamento\n",
    "        self.segmentacaoAssistencial = segmentacaoAssistencial\n",
    "        self.tipoAbrangencia = tipoAbrangencia\n",
    "        self.fatorModerador = fatorModerador\n",
    "        self.status = status\n",
    "    def __repr__(self):\n",
    "        return \"Plano(%s, %s, %s, %s, %s, %s, %s, %s, %s)\" % (self.codigo, self.codigoANS, \n",
    "                                                 self.agrupamento, self.tipoContratacao,\n",
    "                                                 self.tipoFinanciamento,self.segmentacaoAssistencial,self.tipoAbrangencia,\n",
    "                                                 self.fatorModerador,self.status)\n",
    "    def __eq__(self, other):\n",
    "        if isinstance(other, Plano):\n",
    "            return (other.codigoANS == self.codigoANS and self.codigo == other.codigo)\n",
    "        else:\n",
    "            return False\n",
    "    def __ne__(self, other):\n",
    "        return (not self.__eq__(other))\n",
    "    def __hash__(self):\n",
    "        return hash(self.__repr__())"
   ]
  },
  {
   "cell_type": "code",
   "execution_count": null,
   "id": "93eac412-11bb-4990-a4fc-c254060a72f2",
   "metadata": {},
   "outputs": [],
   "source": [
    "operadoras = []\n",
    "planos = []\n",
    "for linha in linhas:\n",
    "    operadoras.append(Operadora(linha[1],linha[2],linha[3],linha[4],[]))\n",
    "    planos.append(\n",
    "        Plano(linha[1],linha[5],linha[6],linha[7],linha[8],linha[9],\n",
    "            linha[10],linha[11],linha[12],linha[13]))\n",
    "print(len(operadoras))"
   ]
  },
  {
   "cell_type": "code",
   "execution_count": null,
   "id": "c6ed19e9-49b1-4435-9f89-d458862abdc6",
   "metadata": {},
   "outputs": [],
   "source": [
    "operadoras = set(operadoras)\n",
    "print(len(operadoras))\n",
    "planos = set(planos)\n",
    "print(len(planos))"
   ]
  },
  {
   "cell_type": "code",
   "execution_count": null,
   "id": "fc673620-52ce-43f7-a098-800334e07350",
   "metadata": {
    "tags": []
   },
   "outputs": [],
   "source": [
    "for operadora in operadoras:\n",
    "    for plano in planos:\n",
    "        if plano.codigoOperadora == operadora.codigoANS:\n",
    "            operadora.planos.append(plano)"
   ]
  },
  {
   "cell_type": "code",
   "execution_count": null,
   "id": "4c2f270f",
   "metadata": {},
   "outputs": [],
   "source": [
    "operadoras = list(operadoras)\n",
    "print(len(operadoras))"
   ]
  },
  {
   "cell_type": "code",
   "execution_count": null,
   "id": "37681368",
   "metadata": {},
   "outputs": [],
   "source": [
    "class Base:\n",
    "    def __init__(self,operadoras):\n",
    "        self.operadoras = operadoras\n",
    "\n",
    "import json\n",
    "import codecs\n",
    "arquivo = codecs.open(\"output/operadoras.json\", \"w\")\n",
    "arquivo.write(json.dumps(Base(operadoras), default=lambda o: o.__dict__, indent=2,ensure_ascii=False))\n",
    "arquivo.close()"
   ]
  }
 ],
 "metadata": {
  "kernelspec": {
   "display_name": "Python 3 (ipykernel)",
   "language": "python",
   "name": "python3"
  },
  "language_info": {
   "codemirror_mode": {
    "name": "ipython",
    "version": 3
   },
   "file_extension": ".py",
   "mimetype": "text/x-python",
   "name": "python",
   "nbconvert_exporter": "python",
   "pygments_lexer": "ipython3",
   "version": "3.8.10"
  }
 },
 "nbformat": 4,
 "nbformat_minor": 5
}
