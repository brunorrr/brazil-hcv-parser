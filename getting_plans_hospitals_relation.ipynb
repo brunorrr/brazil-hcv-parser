{
 "cells": [
  {
   "cell_type": "code",
   "execution_count": 1,
   "metadata": {},
   "outputs": [],
   "source": [
    "lines = []\n",
    "import csv\n",
    "with open('/home/bruno/Projetos/planos-hospitais/massa/produtos_prestadores_hospitalares_MA.csv') as csvfile:\n",
    "    spamreader = csv.reader(csvfile, delimiter=',')\n",
    "    for row in spamreader:\n",
    "        lines.append(row)\n",
    "del lines[0]"
   ]
  },
  {
   "cell_type": "code",
   "execution_count": 2,
   "metadata": {},
   "outputs": [],
   "source": [
    "class Covering:\n",
    "    codigoPlano = 0\n",
    "    codigoANSPlano = 0\n",
    "    codigoHospital = 0\n",
    "    cnpjHospital = 0\n",
    "    urgencia = 0\n",
    "    tipoPrestador = ''\n",
    "    tipoContrato = ''\n",
    "    disponibilidade = ''\n",
    "    dataInicioVinculo = ''\n",
    "    dataFimVinculo = ''\n",
    "    def __repr__(self):\n",
    "        return \"Covering(%s, %s, %s, %s, %s, %s, %s, %s, %s, %s)\" % (self.codigoPlano, self.codigoANSPlano,\n",
    "        self.codigoHospital, self.cnpjHospital, self.urgencia,\n",
    "        self.tipoPrestador, self.tipoContrato, self.disponibilidade, self.dataInicioVinculo, self.dataFimVinculo)\n",
    "    def __eq__(self, other):\n",
    "        if isinstance(other, Covering):\n",
    "            return (other.codigoPlano == self.codigoPlano and other.codigoANSPlano == self.codigoANSPlano)\n",
    "        else:\n",
    "            return False\n",
    "    def __ne__(self, other):\n",
    "        return (not self.__eq__(other))\n",
    "    def __hash__(self):\n",
    "        return hash(self.__repr__())"
   ]
  },
  {
   "cell_type": "code",
   "execution_count": 3,
   "metadata": {},
   "outputs": [
    {
     "name": "stdout",
     "output_type": "stream",
     "text": [
      "302107\n"
     ]
    }
   ],
   "source": [
    "coverings = []\n",
    "for line in lines:\n",
    "    newCovering = Covering()\n",
    "    newCovering.codigoPlano = line[5]\n",
    "    newCovering.codigoANSPlano = line[6]\n",
    "    newCovering.codigoHospital = line[14]\n",
    "    newCovering.cnpjHospital = line[15]\n",
    "    newCovering.urgencia = line[19]\n",
    "    newCovering.tipoPrestador = line[20]\n",
    "    newCovering.tipoContrato = line[21]\n",
    "    newCovering.disponibilidade = line[22]\n",
    "    newCovering.dataInicioVinculo = line[26]\n",
    "    newCovering.dataFimVinculo = line[27]\n",
    "    coverings.append(newCovering)\n",
    "print(len(coverings))"
   ]
  },
  {
   "cell_type": "code",
   "execution_count": 5,
   "metadata": {},
   "outputs": [
    {
     "name": "stdout",
     "output_type": "stream",
     "text": [
      "302107\n"
     ]
    }
   ],
   "source": [
    "coverings = list(set(coverings))\n",
    "print(len(coverings))"
   ]
  },
  {
   "cell_type": "code",
   "execution_count": 7,
   "metadata": {},
   "outputs": [],
   "source": [
    "import json\n",
    "import codecs\n",
    "arquivo = codecs.open(\"output/coverings.json\", \"w\")\n",
    "arquivo.write(json.dumps([coverings.__dict__ for coverings in coverings], indent=2,ensure_ascii=False))\n",
    "arquivo.close()"
   ]
  }
 ],
 "metadata": {
  "interpreter": {
   "hash": "916dbcbb3f70747c44a77c7bcd40155683ae19c65e1c03b4aa3499c5328201f1"
  },
  "kernelspec": {
   "display_name": "Python 3.8.10 64-bit",
   "language": "python",
   "name": "python3"
  },
  "language_info": {
   "codemirror_mode": {
    "name": "ipython",
    "version": 3
   },
   "file_extension": ".py",
   "mimetype": "text/x-python",
   "name": "python",
   "nbconvert_exporter": "python",
   "pygments_lexer": "ipython3",
   "version": "3.8.10"
  },
  "orig_nbformat": 4
 },
 "nbformat": 4,
 "nbformat_minor": 2
}
